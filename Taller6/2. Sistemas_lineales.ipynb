{
 "cells": [
  {
   "cell_type": "code",
   "execution_count": 1,
   "id": "c82606e3",
   "metadata": {},
   "outputs": [],
   "source": [
    "import numpy as np"
   ]
  },
  {
   "cell_type": "code",
   "execution_count": 6,
   "id": "e7183d14",
   "metadata": {},
   "outputs": [],
   "source": [
    "class SisLine:\n",
    "    def __init__(self, A, b):\n",
    "        self.A = A\n",
    "        self.b = b\n",
    "        self.itmax = 1000\n",
    "        self.error = 1e-10\n",
    "\n",
    "        self.fil_a = np.size(self.A, 0)\n",
    "        self.col_a = np.size(self.A, 1)"
   ]
  },
  {
   "cell_type": "code",
   "execution_count": 7,
   "id": "2ed53721",
   "metadata": {},
   "outputs": [],
   "source": [
    "    def Jacobi(self):\n",
    "        x = np.zeros(self.col_a)\n",
    "        Sum_k = x.copy()\n",
    "        \n",
    "        it = 0\n",
    "        r = np.linalg.norm(self.b - np.dot(self.A,x))\n",
    "        while (r > self.error and it < self.itmax):\n",
    "            for i in range(self.fil_a):\n",
    "                Sum = 0\n",
    "                for j in range(self.col_a):\n",
    "                    if i != j:\n",
    "                        Sum += self.A[i][j]*x[j]\n",
    "\n",
    "                Sum_k[i] = Sum\n",
    "            for i in range(self.fil_a):\n",
    "                try:\n",
    "                    x[i] = (self.b[i] - Sum_k[i])/self.A[i,i]\n",
    "                except ZeroDivisionError:\n",
    "                    print(\"No es posible solucionar el sistema\")\n",
    "\n",
    "            r = np.linalg.norm(self.b - np.dot(self.A,x))\n",
    "            it += 1\n",
    "\n",
    "        return x,it"
   ]
  },
  {
   "cell_type": "code",
   "execution_count": 8,
   "id": "4949f813",
   "metadata": {},
   "outputs": [],
   "source": [
    "    def GaussSeide(self):\n",
    "        x = np.zeros(self.col_a)\n",
    "        Sum_k = x.copy()\n",
    "\n",
    "        it = 0\n",
    "        residuo = np.linalg.norm(self.b - np.dot(self.A,x))\n",
    "        while (residuo > self.error and it < self.itmax):\n",
    "            for i in range(self.fil_a):\n",
    "                Sum = 0\n",
    "                for j in range(self.col_a):\n",
    "                    if i!=j:\n",
    "                        Sum += self.A[i][j]*x[j]\n",
    "                    \n",
    "                    Sum_k[i] = Sum\n",
    "                    try:\n",
    "                        x[i] = (self.b[i] - Sum_k[i])/self.A[i,i]\n",
    "                    except ZeroDivisionError:\n",
    "                        print(\"No es posible solucionar el sistema\")\n",
    "\n",
    "            residuo = np.linalg.norm(self.b-np.dot(self.A,x))\n",
    "            it += 1\n",
    "\n",
    "        return x,it"
   ]
  },
  {
   "cell_type": "code",
   "execution_count": null,
   "id": "45b591ad",
   "metadata": {},
   "outputs": [],
   "source": []
  },
  {
   "cell_type": "code",
   "execution_count": null,
   "id": "83b2d800",
   "metadata": {},
   "outputs": [],
   "source": []
  }
 ],
 "metadata": {
  "kernelspec": {
   "display_name": "Python 3 (ipykernel)",
   "language": "python",
   "name": "python3"
  },
  "language_info": {
   "codemirror_mode": {
    "name": "ipython",
    "version": 3
   },
   "file_extension": ".py",
   "mimetype": "text/x-python",
   "name": "python",
   "nbconvert_exporter": "python",
   "pygments_lexer": "ipython3",
   "version": "3.9.7"
  }
 },
 "nbformat": 4,
 "nbformat_minor": 5
}

{
  "metadata": {
    "language_info": {
      "codemirror_mode": {
        "name": "python",
        "version": 3
      },
      "file_extension": ".py",
      "mimetype": "text/x-python",
      "name": "python",
      "nbconvert_exporter": "python",
      "pygments_lexer": "ipython3",
      "version": "3.8"
    },
    "kernelspec": {
      "name": "python",
      "display_name": "Python (Pyodide)",
      "language": "python"
    }
  },
  "nbformat_minor": 4,
  "nbformat": 4,
  "cells": [
    {
      "cell_type": "code",
      "source": "import numpy as np\nimport matplotlib.pyplot as plt\nfrom IPython.display import clear_output\nimport time",
      "metadata": {
        "trusted": true
      },
      "execution_count": 1,
      "outputs": []
    },
    {
      "cell_type": "code",
      "source": "G=(lambda x,y,z: 6*x-2*np.cos(y*z)-1, \\\n   lambda x,y,z: 9*y+np.sqrt(x**2+np.sin(z)+1.06)+0.9, \\\n   lambda x,y,z: 60*z+3*np.exp(-x*y)+10*np.pi-3)",
      "metadata": {
        "trusted": true
      },
      "execution_count": 2,
      "outputs": []
    },
    {
      "cell_type": "code",
      "source": "def GetVectorF(G,r,h=1e-6):\n    dim = len(G)\n    v = np.zeros(dim)\n    \n    for i in range(dim):\n        v[i] = G[i](r[0],r[1],r[2])\n        \n    return v",
      "metadata": {
        "trusted": true
      },
      "execution_count": 3,
      "outputs": []
    },
    {
      "cell_type": "code",
      "source": "def GetJacobian(G,r,h=1e-6):\n    \n    dim = len(G)\n    \n    J = np.zeros((dim,dim))\n    \n    for i in range(dim):\n        J[i,0] = (  G[i](r[0]+h,r[1],r[2]) - G[i](r[0]-h,r[1],r[2]) )/(2*h)\n        J[i,1] = (  G[i](r[0],r[1]+h,r[2]) - G[i](r[0],r[1]-h,r[2]) )/(2*h)\n        J[i,2] = (  G[i](r[0],r[1],r[2]+h) - G[i](r[0],r[1],r[2]-h) )/(2*h)\n        \n    return J.T",
      "metadata": {
        "trusted": true
      },
      "execution_count": 4,
      "outputs": []
    },
    {
      "cell_type": "code",
      "source": "def NewtonRaphson(G,r,error=1e-10):\n    \n    it = 0\n    d = 1\n    Vector_d = np.array([])\n    \n    while d > error:\n        \n        it += 1\n        \n        rc = r\n        \n        F = GetVectorF(G,r)\n        J = GetJacobian(G,r)\n        InvJ = np.linalg.inv(J)\n        \n        r = rc - np.dot( InvJ, F )\n        \n        diff = r - rc\n        print(diff)\n        \n        d = np.linalg.norm(diff)\n        \n        Vector_d = np.append( Vector_d , d )\n        \n    return r,it,Vector_d",
      "metadata": {
        "trusted": true
      },
      "execution_count": 5,
      "outputs": []
    },
    {
      "cell_type": "code",
      "source": "def GetMetric(G,r):\n    v = GetVectorF(G,r)\n    return 0.5*np.linalg.norm(v)**2",
      "metadata": {
        "trusted": true
      },
      "execution_count": 6,
      "outputs": []
    },
    {
      "cell_type": "code",
      "source": "def GetFig(F,R,it):\n    \n    fig = plt.figure(figsize=(8,4))\n    \n    labels = ['X','Y','Z']\n    \n    ax = fig.add_subplot(1,2,1)\n    ax1 = fig.add_subplot(1,2,2)\n\n    ax.set_title('Metric: %.20f' %(F[it]))\n\n    ax.plot(F[:it])\n    ax.set_xlabel('%.0f' %(it))\n    ax.set_yscale('log')\n    ax1.plot(R[:it],label=labels)\n    ax1.set_xlabel('%.0f' %(it))\n    ax1.legend(loc=0)\n    \n    plt.show()",
      "metadata": {
        "trusted": true
      },
      "execution_count": 7,
      "outputs": []
    },
    {
      "cell_type": "code",
      "source": "def GetSolve(G,r,lr=1e-3,epochs=int(1e4),error=1e-7):\n    \n    d = 1\n    it = 0\n    Vector_F = np.array([])\n    \n    R_vector = np.array(r)\n    \n    while d > error and it < epochs:\n        \n        CurrentF = GetMetric(G,r)\n        \n        J = GetJacobian(G,r)\n        \n        GVector = GetVectorF(G,r)\n        \n        #Machine Learning\n        r -= lr*np.dot(J,GVector) \n        \n        R_vector = np.vstack((R_vector,r))\n        \n        NewF = GetMetric(G,r)\n        \n        \n        Vector_F = np.append(Vector_F,NewF)\n        \n        d = np.abs( CurrentF - NewF )/NewF\n        \n        \n        if it%500 == 0:\n            \n            #print(it,d)\n            clear_output(wait=True)\n            time.sleep(0.01)\n            \n        it += 1\n        \n    if d < error:\n        print(' Entrenamiento completo ', d, 'iteraciones', it)\n        \n    if it == epochs:\n        print(' Entrenamiento no completado ')\n        \n    return r,it,Vector_F,R_vector",
      "metadata": {
        "trusted": true
      },
      "execution_count": 8,
      "outputs": []
    },
    {
      "cell_type": "code",
      "source": "xsol,it,F,R = GetSolve(G,[0,0,0],lr=1e-5)",
      "metadata": {
        "trusted": true
      },
      "execution_count": 16,
      "outputs": [
        {
          "name": "stdout",
          "text": " Entrenamiento no completado \n",
          "output_type": "stream"
        }
      ]
    },
    {
      "cell_type": "code",
      "source": "xsol",
      "metadata": {
        "trusted": true
      },
      "execution_count": 17,
      "outputs": [
        {
          "execution_count": 17,
          "output_type": "execute_result",
          "data": {
            "text/plain": "array([ 0.48429186, -0.1982886 , -0.52863803])"
          },
          "metadata": {}
        }
      ]
    },
    {
      "cell_type": "code",
      "source": "",
      "metadata": {},
      "execution_count": null,
      "outputs": []
    }
  ]
}
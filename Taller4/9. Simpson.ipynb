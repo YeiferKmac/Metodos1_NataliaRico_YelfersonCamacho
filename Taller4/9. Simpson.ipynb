{
 "cells": [
  {
   "cell_type": "code",
   "execution_count": 1,
   "id": "480e7be6",
   "metadata": {},
   "outputs": [],
   "source": [
    "import sympy as sp \n",
    "import numpy as np"
   ]
  },
  {
   "cell_type": "markdown",
   "id": "dbeebbfd",
   "metadata": {},
   "source": [
    "El error asosciado a la regla de Simpson está dado por: \n",
    "$ E=\\frac{f^{(4)}(\\zeta)}{4!}\\int_{a}^{b}(x-x_0)(x-x_1)(x-x_2)(x-x_3)dx= \n",
    "\\frac{f^{(4)}(\\zeta)}{4!}\\int_{0}^{3h}(x)(x-h)(x-2h)(x-3h)dx $\n",
    "\n",
    "Por lo que se soluciona, para 3/8 como:"
   ]
  },
  {
   "cell_type": "code",
   "execution_count": 10,
   "id": "415a8295",
   "metadata": {},
   "outputs": [
    {
     "name": "stdout",
     "output_type": "stream",
     "text": [
      "Solucionando el error asociado a la regla de Simpson para 3/8:\n"
     ]
    },
    {
     "data": {
      "text/latex": [
       "$\\displaystyle - \\frac{3 f^{(4)}(\\zeta) h^{5}}{80}$"
      ],
      "text/plain": [
       "-3*f^{(4)}(\\zeta)*h**5/80"
      ]
     },
     "execution_count": 10,
     "metadata": {},
     "output_type": "execute_result"
    }
   ],
   "source": [
    "x= sp.Symbol('x')\n",
    "h = sp.Symbol('h')\n",
    "f_zeta = sp.Symbol('f^{(4)}(\\zeta)')\n",
    "E = sp.expand((x)*(x-h)*(x-2*h)*(x-3*h))\n",
    "E = sp.integrate(E,(x,0,3*h))\n",
    "E *= f_zeta/np.math.factorial(4)\n",
    "print(\"Solucionando el error asociado a la regla de Simpson para 3/8:\")\n",
    "E"
   ]
  },
  {
   "cell_type": "code",
   "execution_count": null,
   "id": "3efd1ba1",
   "metadata": {},
   "outputs": [],
   "source": []
  }
 ],
 "metadata": {
  "kernelspec": {
   "display_name": "Python 3 (ipykernel)",
   "language": "python",
   "name": "python3"
  },
  "language_info": {
   "codemirror_mode": {
    "name": "ipython",
    "version": 3
   },
   "file_extension": ".py",
   "mimetype": "text/x-python",
   "name": "python",
   "nbconvert_exporter": "python",
   "pygments_lexer": "ipython3",
   "version": "3.10.7"
  }
 },
 "nbformat": 4,
 "nbformat_minor": 5
}

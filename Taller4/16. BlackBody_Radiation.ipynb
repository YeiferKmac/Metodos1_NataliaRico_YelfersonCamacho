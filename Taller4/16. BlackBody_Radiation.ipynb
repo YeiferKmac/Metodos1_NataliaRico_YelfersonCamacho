{
 "cells": [
  {
   "cell_type": "code",
   "execution_count": 34,
   "id": "24e28c60",
   "metadata": {},
   "outputs": [],
   "source": [
    "import numpy as np\n",
    "import sympy as sp\n",
    "import matplotlib.pyplot as plt"
   ]
  },
  {
   "cell_type": "code",
   "execution_count": 35,
   "id": "05983c24",
   "metadata": {},
   "outputs": [],
   "source": [
    "x = sp.Symbol('x',Real=True)\n",
    "\n",
    "f = (x**3)/(sp.exp(x)-1)\n",
    "g = sp.exp(x)*((x**3)/(sp.exp(x)-1))\n",
    "lg = sp.lambdify([x],g,\"numpy\")\n",
    "lf = sp.lambdify([x],f,\"numpy\" )\n"
   ]
  },
  {
   "cell_type": "code",
   "execution_count": 36,
   "id": "25e912e6",
   "metadata": {},
   "outputs": [
    {
     "data": {
      "text/latex": [
       "$\\displaystyle \\frac{\\pi^{4}}{15}$"
      ],
      "text/plain": [
       "pi**4/15"
      ]
     },
     "execution_count": 36,
     "metadata": {},
     "output_type": "execute_result"
    }
   ],
   "source": [
    "Iexacta = np.pi**4 / 15\n",
    "sp.pi**4/15"
   ]
  },
  {
   "cell_type": "code",
   "execution_count": 37,
   "id": "67ba6734",
   "metadata": {},
   "outputs": [],
   "source": [
    "def Laguerre(n):\n",
    "    \"\"\"\n",
    "    Retorna el polinomio de grado n-esimo de Laguerre (simbolico).\n",
    "    \"\"\"\n",
    "    \n",
    "    x = sp.Symbol('x',Real=True)\n",
    "    y = sp.Symbol('y',Real=True)\n",
    "    \n",
    "    y = (np.e**(-x))*(x**n)\n",
    "    \n",
    "    p = (sp.diff(y,x,n)/(np.math.factorial(n)))*np.e**x\n",
    "    \n",
    "    return p\n",
    "def Raices(f, domX, d=6):\n",
    "    raices = []\n",
    "    i=1\n",
    "    raiz = None\n",
    "    while (raiz != False) and (i <= len(domX)):\n",
    "        x_1 = domX[n-i]\n",
    "        raizNueva = round(NewtonRaphson(f,x_1),d)\n",
    "        if raizNueva not in raices:\n",
    "            raices.append(raizNueva)\n",
    "        i+=1\n",
    "    return raices\n",
    "\n",
    "def Derivative(f,x,h=1e-6):\n",
    "    return (f(x+h)-f(x-h))/(2*h)\n",
    "    \n",
    "\n",
    "def NewtonRaphson(f,x_1,lim=100):\n",
    "    iteraciones = 0\n",
    "    while (round(f(x_1),6) != 0) and (iteraciones <= lim):\n",
    "        x_1 = x_1 - (f(x_1)/Derivative(f,x_1))\n",
    "        iteraciones += 1\n",
    "    \n",
    "    if iteraciones > lim:\n",
    "        return False\n",
    "    else:\n",
    "        return x_1\n",
    "    \n",
    "def GaussLaguerreIntegrate(f,n):\n",
    "    \"\"\"\n",
    "    Recibe una función de la forma (e**(-x))f(x) para integrarla para (a,b) = (0, infinito).\n",
    "    \"\"\"\n",
    "    domLag = np.linspace(0,80,200)\n",
    "    sP = Laguerre(n)\n",
    "    sP2 = Laguerre(n+1)\n",
    "    P2 = sp.lambdify([x], sP2, \"numpy\")\n",
    "    P = sp.lambdify([x], sP, \"numpy\")\n",
    "    roots = sorted(Raices(P, domLag,d=5))\n",
    "    weights = []\n",
    "\n",
    "    for k in range(n):\n",
    "        w_k = roots[k] / ( ((n+1)**2)*(P2(roots[k]))**2 )\n",
    "        weights.append(w_k)\n",
    "        \n",
    "    I = 0\n",
    "    \n",
    "    for k in range(n):\n",
    "        w_k = weights[k]\n",
    "        r_k = roots[k]\n",
    "        term = w_k * f(r_k)\n",
    "        I += term\n",
    "    \n",
    "    return I"
   ]
  },
  {
   "cell_type": "code",
   "execution_count": 38,
   "id": "41cc9095",
   "metadata": {},
   "outputs": [
    {
     "data": {
      "text/plain": [
       "<matplotlib.legend.Legend at 0x26a6db9cb50>"
      ]
     },
     "execution_count": 38,
     "metadata": {},
     "output_type": "execute_result"
    },
    {
     "data": {
      "image/png": "[encoded data removed]",
      "text/plain": [
       "<Figure size 640x480 with 1 Axes>"
      ]
     },
     "metadata": {},
     "output_type": "display_data"
    }
   ],
   "source": [
    "Inn = []\n",
    "ns = np.linspace(2,10,9)\n",
    "\n",
    "for n in range(2,11):\n",
    "    I = GaussLaguerreIntegrate(lg,n)\n",
    "    Inn.append(I)\n",
    "    \n",
    "In = np.array(Inn)\n",
    "plt.scatter(ns,(In/Iexacta),label=\"Exactitud de cuadratura de Laguerre\", color=\"#0000FF\")\n",
    "plt.grid()\n",
    "plt.xlabel(\"n\", size = 16,)\n",
    "plt.ylabel(\"Exactitud\", size = 16)\n",
    "plt.legend()"
   ]
  },
  {
   "cell_type": "code",
   "execution_count": null,
   "id": "6947053e",
   "metadata": {},
   "outputs": [],
   "source": []
  }
 ],
 "metadata": {
  "kernelspec": {
   "display_name": "Python 3 (ipykernel)",
   "language": "python",
   "name": "python3"
  },
  "language_info": {
   "codemirror_mode": {
    "name": "ipython",
    "version": 3
   },
   "file_extension": ".py",
   "mimetype": "text/x-python",
   "name": "python",
   "nbconvert_exporter": "python",
   "pygments_lexer": "ipython3",
   "version": "3.10.7"
  }
 },
 "nbformat": 4,
 "nbformat_minor": 5
}

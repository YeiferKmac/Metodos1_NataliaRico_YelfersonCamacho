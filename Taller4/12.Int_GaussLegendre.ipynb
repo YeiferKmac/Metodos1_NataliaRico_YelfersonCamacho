{
 "cells": [
  {
   "cell_type": "code",
   "execution_count": 20,
   "id": "7f89b372",
   "metadata": {},
   "outputs": [],
   "source": [
    "import numpy as np\n",
    "import matplotlib.pyplot as plt\n",
    "import sympy as sym"
   ]
  },
  {
   "cell_type": "code",
   "execution_count": 21,
   "id": "c416ff4b",
   "metadata": {},
   "outputs": [],
   "source": [
    "x = sym.Symbol('x',Real=True)\n",
    "f = 1/(x**2)\n",
    "lf = sym.lambdify([x],f,\"numpy\" )\n",
    "a = 1\n",
    "b = 2"
   ]
  },
  {
   "cell_type": "code",
   "execution_count": 22,
   "id": "860e5b52",
   "metadata": {},
   "outputs": [],
   "source": [
    "def Legendre(n):\n",
    "    y = (x**2-1)**n\n",
    "    p = sym.diff(y,x,n)/(2**n * np.math.factorial(n))\n",
    "    return p\n",
    "\n",
    "def Raices(f, domX, d=6):\n",
    "    raices = []\n",
    "    i=1\n",
    "    raiz = None\n",
    "    n=len(domX)\n",
    "    while (raiz != False) and (i <= len(domX)):\n",
    "        x_1 = domX[n-i]\n",
    "        raizNueva = round(NewtonRaphson(f,x_1),d)\n",
    "        if raizNueva not in raices:\n",
    "            raices.append(raizNueva)\n",
    "        i+=1\n",
    "    return raices"
   ]
  },
  {
   "cell_type": "code",
   "execution_count": 23,
   "id": "ca536503",
   "metadata": {},
   "outputs": [],
   "source": [
    "def Df(f,x,h=1e-6):\n",
    "    return (f(x+h)-f(x-h))/(2*h)\n",
    "    \n",
    "def Int_GaussLeg(f,a,b,n):\n",
    "    domLeg = np.linspace(-1,1,100)\n",
    "    sP = Legendre(n)\n",
    "    P = sym.lambdify([x], sP, \"numpy\")\n",
    "    roots = sorted(Raices(P, domLeg,d=5))\n",
    "    weights = []\n",
    "\n",
    "    for k in range(n):\n",
    "        w_k = 2/((1- roots[k]**2)*(Df(P,roots[k]))**2)\n",
    "        weights.append(w_k)\n",
    "        \n",
    "    I = 0.5*(b-a)\n",
    "    suma = 0\n",
    "    \n",
    "    for k in range(n):\n",
    "        w_k = weights[k]\n",
    "        r_k = roots[k]\n",
    "        t_k = 0.5*((b-a)*r_k + a + b )\n",
    "        term = w_k * f(t_k)\n",
    "        suma += term\n",
    "    I *= suma\n",
    "    \n",
    "    return I"
   ]
  },
  {
   "cell_type": "markdown",
   "id": "768f4f97",
   "metadata": {},
   "source": [
    "Las soluciones a la integral $$\\int_{1}^{2}\\frac{1}{x^2}dx $$\n",
    "son:"
   ]
  },
  {
   "cell_type": "code",
   "execution_count": 39,
   "id": "518d53eb",
   "metadata": {},
   "outputs": [
    {
     "name": "stdout",
     "output_type": "stream",
     "text": [
      "I_2 = 0.49704159963702643 y \n",
      "I_3 = 0.49987065750411097\n"
     ]
    }
   ],
   "source": [
    "print( \"I_2 = \" + str(Int_GaussLeg(lf,a,b,2)) + \" y \\n\"\n",
    "       \"I_3 = \" + str(Int_GaussLeg(lf,a,b,3)))"
   ]
  },
  {
   "cell_type": "code",
   "execution_count": null,
   "id": "fec64ef4",
   "metadata": {},
   "outputs": [],
   "source": []
  }
 ],
 "metadata": {
  "kernelspec": {
   "display_name": "Python 3 (ipykernel)",
   "language": "python",
   "name": "python3"
  },
  "language_info": {
   "codemirror_mode": {
    "name": "ipython",
    "version": 3
   },
   "file_extension": ".py",
   "mimetype": "text/x-python",
   "name": "python",
   "nbconvert_exporter": "python",
   "pygments_lexer": "ipython3",
   "version": "3.10.7"
  }
 },
 "nbformat": 4,
 "nbformat_minor": 5
}

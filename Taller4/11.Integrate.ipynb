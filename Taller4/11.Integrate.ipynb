{
 "cells": [
  {
   "cell_type": "code",
   "execution_count": 1,
   "id": "80106dc3",
   "metadata": {},
   "outputs": [],
   "source": [
    "import sympy as sp\n",
    "import numpy as np"
   ]
  },
  {
   "cell_type": "code",
   "execution_count": 21,
   "id": "4a544e3c",
   "metadata": {},
   "outputs": [],
   "source": [
    "f = lambda x: np.sqrt(1 + np.e**(-x**2))\n",
    "x = sp.Symbol(\"x\", Real=True)\n",
    "a = -1\n",
    "b = 1\n",
    "n = 3"
   ]
  },
  {
   "cell_type": "code",
   "execution_count": 22,
   "id": "76854cf2",
   "metadata": {},
   "outputs": [],
   "source": [
    "x_n = np.linspace(a,b,n)\n",
    "h = (b-a)/n\n",
    "def IntSimpson(f,a,b):\n",
    "    x_m = ((2*a) + b)/3\n",
    "    x_n = (a + (2*b))/3\n",
    "    return (3*h/8) * (f(a) + 3*f(x_m) + 3*f(x_n) + f(b))"
   ]
  },
  {
   "cell_type": "markdown",
   "id": "0cd25c52",
   "metadata": {},
   "source": [
    "La solución a la siguiente integral es: $$\\int_{-1}^{1}\\sqrt{1+e^{-x^2}}dx $$"
   ]
  },
  {
   "cell_type": "code",
   "execution_count": 25,
   "id": "1293f9c1",
   "metadata": {},
   "outputs": [
    {
     "data": {
      "text/plain": [
       "2.649579329907684"
      ]
     },
     "execution_count": 25,
     "metadata": {},
     "output_type": "execute_result"
    }
   ],
   "source": [
    "IntSimpson(f,a,b)"
   ]
  },
  {
   "cell_type": "code",
   "execution_count": null,
   "id": "bc9ea5c3",
   "metadata": {
    "scrolled": true
   },
   "outputs": [],
   "source": []
  },
  {
   "cell_type": "code",
   "execution_count": null,
   "id": "aaa51f7f",
   "metadata": {},
   "outputs": [],
   "source": []
  }
 ],
 "metadata": {
  "kernelspec": {
   "display_name": "Python 3 (ipykernel)",
   "language": "python",
   "name": "python3"
  },
  "language_info": {
   "codemirror_mode": {
    "name": "ipython",
    "version": 3
   },
   "file_extension": ".py",
   "mimetype": "text/x-python",
   "name": "python",
   "nbconvert_exporter": "python",
   "pygments_lexer": "ipython3",
   "version": "3.10.7"
  }
 },
 "nbformat": 4,
 "nbformat_minor": 5
}

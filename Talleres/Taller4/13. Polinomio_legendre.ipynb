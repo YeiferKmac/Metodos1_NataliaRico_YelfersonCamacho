{
 "cells": [
  {
   "cell_type": "code",
   "execution_count": 12,
   "id": "75f14750",
   "metadata": {},
   "outputs": [],
   "source": [
    "import numpy as np\n",
    "import matplotlib.pyplot as plt\n",
    "import sympy as sp"
   ]
  },
  {
   "cell_type": "code",
   "execution_count": 16,
   "id": "73032154",
   "metadata": {},
   "outputs": [],
   "source": [
    "def Legendre(n):\n",
    "    x = sym.Symbol('x',Real=True)\n",
    "    y = sym.Symbol('y',Real=True)\n",
    "    y = (x**2-1)**n\n",
    "    p = sym.diff(y,x,n)/(2**n * np.math.factorial(n))\n",
    "    return p"
   ]
  },
  {
   "cell_type": "code",
   "execution_count": 19,
   "id": "cca76f48",
   "metadata": {},
   "outputs": [],
   "source": [
    "def GetCoeffs(func):\n",
    "    order = sym.degree(func,gen=x)+1\n",
    "    coeffs = np.zeros(order)\n",
    "    for i in range(order):\n",
    "        poly = Legendre(i)\n",
    "        coeffs[i] = sp.integrate(poly*func,(x,-1,1))/(2/(2*i+1))\n",
    "    return coeffs"
   ]
  },
  {
   "cell_type": "code",
   "execution_count": 20,
   "id": "cf791de2",
   "metadata": {},
   "outputs": [
    {
     "data": {
      "text/plain": [
       "array([3.33333333, 5.        , 0.66666667])"
      ]
     },
     "execution_count": 20,
     "metadata": {},
     "output_type": "execute_result"
    }
   ],
   "source": [
    "x = sym.Symbol(\"x\", Real=True)\n",
    "func = 3+5*x+x**2\n",
    "coeffs = GetCoeffs(func)\n",
    "coeffs"
   ]
  },
  {
   "cell_type": "markdown",
   "id": "60410407",
   "metadata": {},
   "source": [
    "Tal que: $$\\frac{10}{3}p_0+5p_1+\\frac{2}{3}p_2 $$"
   ]
  },
  {
   "cell_type": "code",
   "execution_count": null,
   "id": "da078a4b",
   "metadata": {},
   "outputs": [],
   "source": []
  }
 ],
 "metadata": {
  "kernelspec": {
   "display_name": "Python 3 (ipykernel)",
   "language": "python",
   "name": "python3"
  },
  "language_info": {
   "codemirror_mode": {
    "name": "ipython",
    "version": 3
   },
   "file_extension": ".py",
   "mimetype": "text/x-python",
   "name": "python",
   "nbconvert_exporter": "python",
   "pygments_lexer": "ipython3",
   "version": "3.10.7"
  }
 },
 "nbformat": 4,
 "nbformat_minor": 5
}

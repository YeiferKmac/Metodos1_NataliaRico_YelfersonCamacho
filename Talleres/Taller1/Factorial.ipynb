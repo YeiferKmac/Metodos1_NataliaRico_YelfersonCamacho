#!/bin/bash

function factorial(){
read -e -p "numero para introducir factorial" n
for i in $(seq 1 1 $n)
do
    fact=$((FACT*i))
done
}
factorial

function variaciones(){
  r=r 
  n= n in r 
  v= ((FACT*n))/(FACT(n-r))
  echo $v
}
variaciones 

function combinaciones(){
  m=m 
  n= n in m 
  c= ((FACT*n))/((FACT*m)(FACT(n-r)))
  echo $c
}
combinaciones

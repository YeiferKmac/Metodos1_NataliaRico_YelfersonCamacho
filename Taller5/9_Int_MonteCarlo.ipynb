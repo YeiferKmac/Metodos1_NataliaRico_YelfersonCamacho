{
  "metadata": {
    "language_info": {
      "codemirror_mode": {
        "name": "python",
        "version": 3
      },
      "file_extension": ".py",
      "mimetype": "text/x-python",
      "name": "python",
      "nbconvert_exporter": "python",
      "pygments_lexer": "ipython3",
      "version": "3.8"
    },
    "kernelspec": {
      "name": "python",
      "display_name": "Python (Pyodide)",
      "language": "python"
    }
  },
  "nbformat_minor": 4,
  "nbformat": 4,
  "cells": [
    {
      "cell_type": "code",
      "source": "import matplotlib.pyplot as plt\nimport numpy as np",
      "metadata": {
        "trusted": true
      },
      "execution_count": 1,
      "outputs": []
    },
    {
      "cell_type": "code",
      "source": "\npuntos = []\nv = 0\nv_real = 25/192\nit = 0\n\nwhile round(v,4) != round(v_real,4):\n    x = np.random.rand(8)\n    suma = np.sum(x)\n    puntos.append(suma**2) \n    v = np.average(puntos)*2**-7\n    it += 1\n    \nprint('El valor a la integral, con 3 cifras de precisión, es de '+ str(v) + \n      ' y le llevó ' + str(it) + ' iteraciones para completar la exactitud requerida.')",
      "metadata": {
        "trusted": true
      },
      "execution_count": 61,
      "outputs": [
        {
          "name": "stdout",
          "text": "El valor a la integral, con 4 cifras de precisión, es de 0.13021071471869142 y le llevó 86 iteraciones para completar la exactitud requerida.\n",
          "output_type": "stream"
        }
      ]
    },
    {
      "cell_type": "code",
      "source": "",
      "metadata": {},
      "execution_count": null,
      "outputs": []
    },
    {
      "cell_type": "code",
      "source": "",
      "metadata": {},
      "execution_count": null,
      "outputs": []
    }
  ]
}
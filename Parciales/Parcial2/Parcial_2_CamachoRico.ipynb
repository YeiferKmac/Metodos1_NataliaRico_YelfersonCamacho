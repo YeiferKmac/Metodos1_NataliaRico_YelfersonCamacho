{
  "nbformat": 4,
  "nbformat_minor": 0,
  "metadata": {
    "colab": {
      "provenance": []
    },
    "kernelspec": {
      "name": "python3",
      "display_name": "Python 3"
    },
    "language_info": {
      "name": "python"
    }
  },
  "cells": [
    {
      "cell_type": "code",
      "execution_count": 3,
      "metadata": {
        "id": "l05OCVG6jJnH"
      },
      "outputs": [],
      "source": [
        "import numpy as np\n",
        "import matplotlib.pyplot as plt\n",
        "import sympy as sym"
      ]
    },
    {
      "cell_type": "code",
      "source": [
        "#A\n",
        "def temp (x,y):\n",
        "  for i in range (4):\n",
        "    a = np.matrix([[1,1],[-1,1]], [[-1,-1],[1,-1]])\n",
        "    n = [x,y]* a\n",
        "  T = np.sum(n)\n",
        "  return T"
      ],
      "metadata": {
        "id": "a0slCeBmjOie"
      },
      "execution_count": 17,
      "outputs": []
    },
    {
      "cell_type": "code",
      "source": [
        "#B \n",
        "p = [[1,1],[-1,1],[-1,-1],[1,-1]] #De una vez se remplazan los valores "
      ],
      "metadata": {
        "id": "XQhUSrLBjQ8D"
      },
      "execution_count": 18,
      "outputs": []
    },
    {
      "cell_type": "code",
      "source": [
        "#C\n",
        "Ti = [[1],[2],[0.5],[0.3]] #De una vez se remplazan los valores \n",
        "b = ([1, 1, 1, (1*1)], [1,-1,1,(1*-1)], [1,-1,-1, (-1*-1)], [1,1,-1,(1*-1)])\n",
        "n = np.linalg.solve(b,Ti)\n"
      ],
      "metadata": {
        "id": "OgsIrlI_jT5i"
      },
      "execution_count": 19,
      "outputs": []
    },
    {
      "cell_type": "code",
      "source": [
        "#D\n",
        "T_1 = temp(p[0][0],p[0][1])\n",
        "T_2 = temp(p[1][0],p[1][1])\n",
        "T_3 = temp(p[2][0],p[2][1])\n",
        "T_4 = temp(p[3][0],p[3][1])"
      ],
      "metadata": {
        "id": "89KtNtZAkrS6"
      },
      "execution_count": 23,
      "outputs": []
    },
    {
      "cell_type": "code",
      "source": [
        "#E\n",
        "x= np.linspace(-1,1)\n",
        "y= np.linspace(-1,1)\n",
        "gra= plt.temp(x,y)\n",
        "plt.show()"
      ],
      "metadata": {
        "id": "SlPb3-BmnokR"
      },
      "execution_count": null,
      "outputs": []
    },
    {
      "cell_type": "code",
      "source": [
        "#F\n",
        "temp(0,0.5)"
      ],
      "metadata": {
        "id": "BtsBhw89ow-4"
      },
      "execution_count": null,
      "outputs": []
    },
    {
      "cell_type": "code",
      "source": [
        "#G\n",
        "def g(x,y,theta=np.pi/2):\n",
        "    rotor = np.array([[np.cos(theta),-np.sin(theta)],\\\n",
        "                      [np.sin(theta),np.cos(theta)]])\n",
        "    punto = np.array([x,y])\n",
        "    return np.dot(rotor,punto)\n",
        "\n",
        "P1 = g(p[0][0],p[0][1])\n",
        "P2 = g(p[1][0],p[1][1])\n",
        "P3 = g(p[2][0],p[2][1])\n",
        "P4 = g(p[3][0],p[3][1])\n",
        "P5 = g(0,0.5)\n",
        "(P1,P2,P3,P4,P5)"
      ],
      "metadata": {
        "id": "6zQBQVIbo-d3"
      },
      "execution_count": null,
      "outputs": []
    },
    {
      "cell_type": "code",
      "source": [
        "#H\n",
        "def interpolacion(P):\n",
        "    p1,p2,p3,p4 = P\n",
        "    coeff = np.array([[1,p1[0],p1[1],p1[0]*p1[1]],\\\n",
        "                      [1,p2[0],p2[1],p2[0]*p2[1]],\\\n",
        "                      [1,p3[0],p3[1],p3[0]*p3[1]],\\\n",
        "                      [1,p4[0],p4[1],p4[0]*p4[1]]])\n",
        "    Sol = np.array([1,2,0.5,0.3])\n",
        "    x = np.linalg.solve(coeff, Sol)\n",
        "    return x\n",
        "interpolacion((P1,P2,P3,P4))"
      ],
      "metadata": {
        "id": "GjsoQDZCpM-H"
      },
      "execution_count": null,
      "outputs": []
    },
    {
      "cell_type": "code",
      "source": [
        "#I\n",
        "T1 = temp(P1[0],P1[1])\n",
        "T2 = temp(P2[0],P2[1])\n",
        "T3 = temp(P3[0],P3[1])\n",
        "T3 = temp(P4[0],P4[1])\n",
        "T_point = T(P5[0],P5[1])\n",
        "\n",
        "(T1,T2,T3,T4,T_point)"
      ],
      "metadata": {
        "id": "1w3emLU0pSVT"
      },
      "execution_count": null,
      "outputs": []
    }
  ]
}